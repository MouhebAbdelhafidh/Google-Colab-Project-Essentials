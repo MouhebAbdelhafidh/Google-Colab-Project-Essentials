{
  "nbformat": 4,
  "nbformat_minor": 0,
  "metadata": {
    "colab": {
      "provenance": []
    },
    "kernelspec": {
      "name": "python3",
      "display_name": "Python 3"
    },
    "language_info": {
      "name": "python"
    }
  },
  "cells": [
    {
      "cell_type": "code",
      "source": [
        "!git config --global user.name \"YourUsername\"\n",
        "!git config --global user.email \"YourEmail\"\n",
        "!git config --global user.password \"YourPassword\""
      ],
      "metadata": {
        "id": "9bIivYXkrtG-"
      },
      "execution_count": null,
      "outputs": []
    },
    {
      "cell_type": "markdown",
      "source": [
        "Generate a new Token with the needed access permissions. <br>\n",
        "On GitHub:<br>\n",
        "Settings -> Developer settings -> Personal access tokens -> Fine-gained tokens -> Generate new token"
      ],
      "metadata": {
        "id": "Tc6eM43Gtfvc"
      }
    },
    {
      "cell_type": "code",
      "source": [
        "token = 'YourGitHubGeneratedToken'\n",
        "username = 'YourUsername'\n",
        "repo = 'RepositoryName'"
      ],
      "metadata": {
        "id": "Ii-XbGqQr8yM"
      },
      "execution_count": null,
      "outputs": []
    },
    {
      "cell_type": "code",
      "source": [
        "!git clone https://{token}@github.com/{username}/{repo}"
      ],
      "metadata": {
        "id": "XpKOLapZsHTJ"
      },
      "execution_count": null,
      "outputs": []
    },
    {
      "cell_type": "code",
      "source": [
        "%cd {repo}"
      ],
      "metadata": {
        "id": "Sy2B667DsKjl"
      },
      "execution_count": null,
      "outputs": []
    },
    {
      "cell_type": "code",
      "source": [
        "%ls"
      ],
      "metadata": {
        "id": "u0aYcIJbsL9Y"
      },
      "execution_count": null,
      "outputs": []
    },
    {
      "cell_type": "markdown",
      "source": [
        "Download the .ipynb file into your local computer. <br>\n",
        "Drag and drop the file into the Content folder."
      ],
      "metadata": {
        "id": "Z4QEuqU-sPOl"
      }
    },
    {
      "cell_type": "code",
      "source": [
        "! mv YourGoogleColabFilePath YourGoogleColabRepoPath"
      ],
      "metadata": {
        "id": "wyEtgWDxsNXz"
      },
      "execution_count": null,
      "outputs": []
    },
    {
      "cell_type": "code",
      "source": [
        "!git add --all"
      ],
      "metadata": {
        "id": "Br5-pW26s0-A"
      },
      "execution_count": null,
      "outputs": []
    },
    {
      "cell_type": "code",
      "source": [
        "!git commit -a -m \"Commit Message\""
      ],
      "metadata": {
        "id": "ttJczjIQs3dH"
      },
      "execution_count": null,
      "outputs": []
    },
    {
      "cell_type": "code",
      "source": [
        "!git remote -v"
      ],
      "metadata": {
        "id": "vNWFcf4Ys7Ki"
      },
      "execution_count": null,
      "outputs": []
    },
    {
      "cell_type": "code",
      "source": [
        "!git push origin YourBranchName"
      ],
      "metadata": {
        "id": "OJGdHKpSs9yb"
      },
      "execution_count": null,
      "outputs": []
    },
    {
      "cell_type": "markdown",
      "source": [
        "**Enjoy :)**"
      ],
      "metadata": {
        "id": "m5f2BwpftJo4"
      }
    }
  ]
}