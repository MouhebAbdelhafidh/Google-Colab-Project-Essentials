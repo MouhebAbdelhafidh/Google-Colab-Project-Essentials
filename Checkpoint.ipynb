{
  "nbformat": 4,
  "nbformat_minor": 0,
  "metadata": {
    "colab": {
      "provenance": []
    },
    "kernelspec": {
      "name": "python3",
      "display_name": "Python 3"
    },
    "language_info": {
      "name": "python"
    }
  },
  "cells": [
    {
      "cell_type": "code",
      "source": [
        "import torch\n",
        "import torch.nn as nn\n",
        "import torch.optim as optim\n",
        "from google.colab import drive"
      ],
      "metadata": {
        "id": "m8O4e67unINr"
      },
      "execution_count": 35,
      "outputs": []
    },
    {
      "cell_type": "code",
      "execution_count": 36,
      "metadata": {
        "id": "gwxFDTt6BYyB",
        "colab": {
          "base_uri": "https://localhost:8080/"
        },
        "outputId": "bc9d4e2d-9e80-46f5-82bd-8571bf41c073"
      },
      "outputs": [
        {
          "output_type": "stream",
          "name": "stdout",
          "text": [
            "Drive already mounted at /content/drive; to attempt to forcibly remount, call drive.mount(\"/content/drive\", force_remount=True).\n"
          ]
        }
      ],
      "source": [
        "# Mount Google Drive\n",
        "drive.mount('/content/drive')"
      ]
    },
    {
      "cell_type": "code",
      "source": [
        "# Define a simple feedforward neural network (MLP)\n",
        "class SimpleModel(nn.Module):\n",
        "    def __init__(self):\n",
        "        super(SimpleModel, self).__init__()\n",
        "        self.fc1 = nn.Linear(28*28, 128)  # Example input size for MNIST images\n",
        "        self.fc2 = nn.Linear(128, 10)     # Example output for 10 classes (MNIST)\n",
        "\n",
        "    def forward(self, x):\n",
        "        x = torch.relu(self.fc1(x))\n",
        "        x = self.fc2(x)\n",
        "        return x"
      ],
      "metadata": {
        "id": "XiU2bZ4KmiYD"
      },
      "execution_count": 37,
      "outputs": []
    },
    {
      "cell_type": "code",
      "source": [
        "model = SimpleModel()\n",
        "optimizer = optim.Adam(model.parameters(), lr=0.001)\n",
        "criterion = nn.CrossEntropyLoss()\n",
        "\n",
        "# Dummy data loader (ensure labels are correctly shaped)\n",
        "train_loader = torch.utils.data.DataLoader(\n",
        "    [(torch.randn(28*28), torch.randint(0, 10, ())) for _ in range(100)],  # torch.randint(0, 10, ()) generates a scalar label\n",
        "    batch_size=32, shuffle=True\n",
        ")"
      ],
      "metadata": {
        "id": "xzTN-nRiqTuE"
      },
      "execution_count": 44,
      "outputs": []
    },
    {
      "cell_type": "code",
      "source": [
        "# Training function (simplified)\n",
        "def train(model, optimizer, criterion, train_loader, epochs=2):\n",
        "    for epoch in range(epochs):\n",
        "        running_loss = 0.0\n",
        "        for inputs, labels in train_loader:\n",
        "            inputs = inputs.view(inputs.size(0), -1)  # Flattening inputs\n",
        "            optimizer.zero_grad()\n",
        "            outputs = model(inputs)\n",
        "            loss = criterion(outputs, labels)\n",
        "            loss.backward()\n",
        "            optimizer.step()\n",
        "            running_loss += loss.item()\n",
        "        print(f\"Epoch {epoch+1}, Loss: {running_loss / len(train_loader)}\")\n",
        "\n",
        "        # Save checkpoint after each epoch\n",
        "        checkpoint = {\n",
        "            'epoch': epoch + 1,\n",
        "            'model_state_dict': model.state_dict(),\n",
        "            'optimizer_state_dict': optimizer.state_dict(),\n",
        "            'loss': running_loss / len(train_loader)\n",
        "        }\n",
        "        checkpoint_path = \"/content/drive/My Drive/checkpoint.pth\"\n",
        "        save_checkpoint(checkpoint, checkpoint_path)\n"
      ],
      "metadata": {
        "id": "14bCbQVQmaWz"
      },
      "execution_count": 45,
      "outputs": []
    },
    {
      "cell_type": "code",
      "source": [
        "# Save checkpoint function\n",
        "def save_checkpoint(checkpoint, checkpoint_path):\n",
        "    torch.save(checkpoint, checkpoint_path)\n",
        "    print(f\"Checkpoint saved to {checkpoint_path}\")"
      ],
      "metadata": {
        "id": "jvLkB0Cdn9uw"
      },
      "execution_count": 46,
      "outputs": []
    },
    {
      "cell_type": "code",
      "source": [
        "# Load checkpoint function\n",
        "def load_checkpoint(checkpoint_path):\n",
        "    checkpoint = torch.load(checkpoint_path)\n",
        "    model.load_state_dict(checkpoint['model_state_dict'])\n",
        "    optimizer.load_state_dict(checkpoint['optimizer_state_dict'])\n",
        "    epoch = checkpoint['epoch']\n",
        "    loss = checkpoint['loss']\n",
        "    print(f\"Checkpoint loaded from {checkpoint_path}\")\n",
        "    print(f\"Resumed from epoch {epoch}, loss: {loss}\")\n",
        "    return model, optimizer, epoch"
      ],
      "metadata": {
        "id": "3BJYRnCHnODW"
      },
      "execution_count": 47,
      "outputs": []
    },
    {
      "cell_type": "code",
      "source": [
        "train(model, optimizer, criterion, train_loader)"
      ],
      "metadata": {
        "colab": {
          "base_uri": "https://localhost:8080/"
        },
        "id": "G-6bL12qoBGx",
        "outputId": "abf47f59-46d6-4aca-a3fd-a05d6af65497"
      },
      "execution_count": 48,
      "outputs": [
        {
          "output_type": "stream",
          "name": "stdout",
          "text": [
            "Epoch 1, Loss: 2.2810311913490295\n",
            "Checkpoint saved to /content/drive/My Drive/checkpoint.pth\n",
            "Epoch 2, Loss: 1.619733989238739\n",
            "Checkpoint saved to /content/drive/My Drive/checkpoint.pth\n"
          ]
        }
      ]
    },
    {
      "cell_type": "code",
      "source": [
        "model, optimizer, epoch = load_checkpoint('/content/drive/My Drive/checkpoint.pth')"
      ],
      "metadata": {
        "colab": {
          "base_uri": "https://localhost:8080/"
        },
        "id": "XfUloy61pS6i",
        "outputId": "fe6ab930-2959-44f6-84f2-4d0c5013df19"
      },
      "execution_count": 49,
      "outputs": [
        {
          "output_type": "stream",
          "name": "stdout",
          "text": [
            "Checkpoint loaded from /content/drive/My Drive/checkpoint.pth\n",
            "Resumed from epoch 2, loss: 1.619733989238739\n"
          ]
        },
        {
          "output_type": "stream",
          "name": "stderr",
          "text": [
            "<ipython-input-47-01abfa35a337>:3: FutureWarning: You are using `torch.load` with `weights_only=False` (the current default value), which uses the default pickle module implicitly. It is possible to construct malicious pickle data which will execute arbitrary code during unpickling (See https://github.com/pytorch/pytorch/blob/main/SECURITY.md#untrusted-models for more details). In a future release, the default value for `weights_only` will be flipped to `True`. This limits the functions that could be executed during unpickling. Arbitrary objects will no longer be allowed to be loaded via this mode unless they are explicitly allowlisted by the user via `torch.serialization.add_safe_globals`. We recommend you start setting `weights_only=True` for any use case where you don't have full control of the loaded file. Please open an issue on GitHub for any issues related to this experimental feature.\n",
            "  checkpoint = torch.load(checkpoint_path)\n"
          ]
        }
      ]
    },
    {
      "cell_type": "code",
      "source": [],
      "metadata": {
        "id": "pGCviQaHq66P"
      },
      "execution_count": null,
      "outputs": []
    }
  ]
}